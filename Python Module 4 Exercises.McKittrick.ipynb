{
 "cells": [
  {
   "cell_type": "markdown",
   "metadata": {},
   "source": [
    "Exercise 1: Make an empty list and call it names"
   ]
  },
  {
   "cell_type": "code",
   "execution_count": 9,
   "metadata": {},
   "outputs": [
    {
     "name": "stdout",
     "output_type": "stream",
     "text": [
      "[]\n"
     ]
    }
   ],
   "source": [
    "names = []\n",
    "print(names)"
   ]
  },
  {
   "cell_type": "markdown",
   "metadata": {},
   "source": [
    "Exercise 2: Make names filled with names of 5 people: Hannah, Victor, Sam, James, Sarah"
   ]
  },
  {
   "cell_type": "code",
   "execution_count": 10,
   "metadata": {},
   "outputs": [
    {
     "name": "stdout",
     "output_type": "stream",
     "text": [
      "['Hannah', 'Victor', 'Sam', 'James', 'Sarah']\n"
     ]
    }
   ],
   "source": [
    "names = [\"Hannah\", \"Victor\", \"Sam\", \"James\", \"Sarah\"]\n",
    "print(names)"
   ]
  },
  {
   "cell_type": "code",
   "execution_count": null,
   "metadata": {},
   "outputs": [],
   "source": [
    "# Could've also just appended:\n",
    "#names.append(\"Hannah\")\n",
    "#names.append(\"Victor\")\n",
    "#names.append(\"Sam\")\n",
    "#names.append(\"James\")\n",
    "#names.append(\"Sarah\")\n",
    "#print(names)"
   ]
  },
  {
   "cell_type": "markdown",
   "metadata": {},
   "source": [
    "Exercise 3: Make names sort in reverse. Print out the list using a for-loop"
   ]
  },
  {
   "cell_type": "code",
   "execution_count": 12,
   "metadata": {},
   "outputs": [
    {
     "name": "stdout",
     "output_type": "stream",
     "text": [
      "['Victor', 'Sarah', 'Sam', 'James', 'Hannah']\n"
     ]
    }
   ],
   "source": [
    "names.sort(reverse=True) #must add the optional argument in the parentheses.  Otherwise, it would just sort in alpha order.\n",
    "print(names) "
   ]
  },
  {
   "cell_type": "code",
   "execution_count": 19,
   "metadata": {},
   "outputs": [
    {
     "name": "stdout",
     "output_type": "stream",
     "text": [
      "Victor\n",
      "Sarah\n",
      "Sam\n",
      "James\n",
      "Hannah\n"
     ]
    }
   ],
   "source": [
    "counter = 0 \n",
    "for name in names:\n",
    "    print(name)\n",
    "    counter += 1"
   ]
  },
  {
   "cell_type": "markdown",
   "metadata": {},
   "source": [
    "Exercise 4: Make names sorted alphabetically. Print out the list using while loop"
   ]
  },
  {
   "cell_type": "code",
   "execution_count": 13,
   "metadata": {},
   "outputs": [
    {
     "name": "stdout",
     "output_type": "stream",
     "text": [
      "Hannah\n",
      "James\n",
      "Sam\n",
      "Sarah\n",
      "Victor\n"
     ]
    }
   ],
   "source": [
    "names.sort() #sort alphabetically \n",
    "amt_of_names = len(names)\n",
    "i = 0\n",
    "while i < amt_of_names: # if amount = 3, it will loop through 0, 1, 2\n",
    "    print(names[i])\n",
    "    i += 1 #important in order to avoid infinite loop"
   ]
  },
  {
   "cell_type": "markdown",
   "metadata": {},
   "source": [
    "Exercise 5: Pull out the fourth item from names and print it out"
   ]
  },
  {
   "cell_type": "code",
   "execution_count": 14,
   "metadata": {},
   "outputs": [
    {
     "name": "stdout",
     "output_type": "stream",
     "text": [
      "Sarah\n"
     ]
    }
   ],
   "source": [
    "item = names.pop(3)\n",
    "print(item)"
   ]
  },
  {
   "cell_type": "markdown",
   "metadata": {},
   "source": [
    "Exercise 6: Pull out the first item from names and print it out"
   ]
  },
  {
   "cell_type": "code",
   "execution_count": 45,
   "metadata": {},
   "outputs": [
    {
     "name": "stdout",
     "output_type": "stream",
     "text": [
      "Hannah\n"
     ]
    }
   ],
   "source": [
    "item = names.pop(0)\n",
    "print(item)"
   ]
  },
  {
   "cell_type": "markdown",
   "metadata": {},
   "source": [
    "Exercise 7: Make a variable named fruits that contains a string \"Apples, Oranges, Bananas, Pineapples, Persimmons, Dragonfruit\" and make it into a list splitting it by the commas."
   ]
  },
  {
   "cell_type": "code",
   "execution_count": 15,
   "metadata": {},
   "outputs": [
    {
     "name": "stdout",
     "output_type": "stream",
     "text": [
      "Apples, Oranges, Bananas, Pineapples, Persimmons, Dragonfruit\n"
     ]
    }
   ],
   "source": [
    "fruits = \"Apples, Oranges, Bananas, Pineapples, Persimmons, Dragonfruit\"\n",
    "fruit_list = fruits.split(\",\")\n",
    "print(fruits)\n"
   ]
  },
  {
   "cell_type": "markdown",
   "metadata": {},
   "source": [
    "Exercise 8: Create a list of the first 10 square numbers. i.e. the square of each integer from 1 to 10. "
   ]
  },
  {
   "cell_type": "code",
   "execution_count": 10,
   "metadata": {},
   "outputs": [
    {
     "name": "stdout",
     "output_type": "stream",
     "text": [
      "1\n",
      "4\n",
      "9\n",
      "16\n",
      "25\n",
      "36\n",
      "49\n",
      "64\n",
      "81\n",
      "100\n"
     ]
    }
   ],
   "source": [
    "for x in range(1,11):\n",
    "    print(x**2)\n",
    "    "
   ]
  },
  {
   "cell_type": "markdown",
   "metadata": {},
   "source": [
    "Exercise 9: Create a multiplication table from 1 to 10"
   ]
  },
  {
   "cell_type": "code",
   "execution_count": 14,
   "metadata": {},
   "outputs": [
    {
     "name": "stdout",
     "output_type": "stream",
     "text": [
      "1*1=1\n",
      "2*1=2\n",
      "3*1=3\n",
      "4*1=4\n",
      "5*1=5\n",
      "6*1=6\n",
      "7*1=7\n",
      "8*1=8\n",
      "9*1=9\n",
      "10*1=10\n",
      "1*2=2\n",
      "2*2=4\n",
      "3*2=6\n",
      "4*2=8\n",
      "5*2=10\n",
      "6*2=12\n",
      "7*2=14\n",
      "8*2=16\n",
      "9*2=18\n",
      "10*2=20\n",
      "1*3=3\n",
      "2*3=6\n",
      "3*3=9\n",
      "4*3=12\n",
      "5*3=15\n",
      "6*3=18\n",
      "7*3=21\n",
      "8*3=24\n",
      "9*3=27\n",
      "10*3=30\n",
      "1*4=4\n",
      "2*4=8\n",
      "3*4=12\n",
      "4*4=16\n",
      "5*4=20\n",
      "6*4=24\n",
      "7*4=28\n",
      "8*4=32\n",
      "9*4=36\n",
      "10*4=40\n",
      "1*5=5\n",
      "2*5=10\n",
      "3*5=15\n",
      "4*5=20\n",
      "5*5=25\n",
      "6*5=30\n",
      "7*5=35\n",
      "8*5=40\n",
      "9*5=45\n",
      "10*5=50\n",
      "1*6=6\n",
      "2*6=12\n",
      "3*6=18\n",
      "4*6=24\n",
      "5*6=30\n",
      "6*6=36\n",
      "7*6=42\n",
      "8*6=48\n",
      "9*6=54\n",
      "10*6=60\n",
      "1*7=7\n",
      "2*7=14\n",
      "3*7=21\n",
      "4*7=28\n",
      "5*7=35\n",
      "6*7=42\n",
      "7*7=49\n",
      "8*7=56\n",
      "9*7=63\n",
      "10*7=70\n",
      "1*8=8\n",
      "2*8=16\n",
      "3*8=24\n",
      "4*8=32\n",
      "5*8=40\n",
      "6*8=48\n",
      "7*8=56\n",
      "8*8=64\n",
      "9*8=72\n",
      "10*8=80\n",
      "1*9=9\n",
      "2*9=18\n",
      "3*9=27\n",
      "4*9=36\n",
      "5*9=45\n",
      "6*9=54\n",
      "7*9=63\n",
      "8*9=72\n",
      "9*9=81\n",
      "10*9=90\n",
      "1*10=10\n",
      "2*10=20\n",
      "3*10=30\n",
      "4*10=40\n",
      "5*10=50\n",
      "6*10=60\n",
      "7*10=70\n",
      "8*10=80\n",
      "9*10=90\n",
      "10*10=100\n"
     ]
    }
   ],
   "source": [
    "for x in range(1,11):\n",
    "    print(f\"1*{x}={x*1}\")\n",
    "    print(f\"2*{x}={x*2}\")\n",
    "    print(f\"3*{x}={x*3}\")\n",
    "    print(f\"4*{x}={x*4}\")\n",
    "    print(f\"5*{x}={x*5}\")\n",
    "    print(f\"6*{x}={x*6}\")\n",
    "    print(f\"7*{x}={x*7}\")\n",
    "    print(f\"8*{x}={x*8}\")\n",
    "    print(f\"9*{x}={x*9}\")\n",
    "    print(f\"10*{x}={x*10}\")"
   ]
  },
  {
   "cell_type": "markdown",
   "metadata": {},
   "source": [
    "Exercise 10: Write a program that gets test scores from a user and then calculates and displays the average of the scores that have been enter. The output of the program should show the original scores and the average. "
   ]
  },
  {
   "cell_type": "code",
   "execution_count": 1,
   "metadata": {},
   "outputs": [
    {
     "name": "stdout",
     "output_type": "stream",
     "text": [
      "Enter your test score: 90\n",
      "Do you have another test score? (y/n) y\n",
      "[90]\n",
      "Test Score: 90\n",
      "Average Score: 90.0\n",
      "Enter your test score: 100\n",
      "Do you have another test score? (y/n) y\n",
      "[100]\n",
      "Test Score: 100\n",
      "Average Score: 95.0\n",
      "Enter your test score: 85\n",
      "Do you have another test score? (y/n) n\n",
      "[85]\n",
      "Test Score: 85\n",
      "Average Score: 91.66666666666667\n",
      "Done!\n"
     ]
    }
   ],
   "source": [
    "answer = \"y\"\n",
    "counter = 0\n",
    "total = 0\n",
    "while answer != \"n\":\n",
    "    score = int(input(\"Enter your test score: \"))\n",
    "    answer = input(\"Do you have another test score? (y/n) \")\n",
    "    counter += 1\n",
    "    total = total + score\n",
    "    \n",
    "    print(f\"Test Score: {score}\")\n",
    "    \n",
    "    average = total/counter\n",
    "    \n",
    "    print(f\"Average Score: {average}\")\n",
    "    \n",
    "print(\"Done!\")\n"
   ]
  },
  {
   "cell_type": "markdown",
   "metadata": {},
   "source": [
    "Challenge:\n",
    "Write a program that maintains a list of movies, and the user can list all the movies, add a movie to the list, or delete a movie from the list.\n",
    "\n",
    "Example\n",
    "\n",
    "###### COMMAND MENU\n",
    "```\n",
    "list - list all movies\n",
    "add - add a movie\n",
    "del - delete a movie\n",
    "exit - exit program \n",
    "```\n",
    "\n",
    "###### Command: list\n",
    "``` \n",
    " 1. Toy Story\n",
    " 2. Lion King\n",
    " 3. Frozen\n",
    " ```\n",
    "\n",
    "###### Command: add\n",
    " ```\n",
    " Name: Snow White\n",
    " Snow White was added.\n",
    " ```\n",
    "\n",
    "###### Command: del\n",
    "```\n",
    " Number: 3\n",
    " Frozen was deleted.```\n",
    "\n"
   ]
  },
  {
   "cell_type": "code",
   "execution_count": null,
   "metadata": {},
   "outputs": [],
   "source": [
    "movies = [\"Carlito's Way\", \"A Bronx Tale\", \"Good Will Hunting\", \"Body of Lies\", \"Gladiator\"]\n",
    "\n",
    "\n",
    "\n",
    "\n",
    "\n",
    "\n",
    "    \n",
    "\n",
    "\n",
    "    \n",
    "    \n"
   ]
  }
 ],
 "metadata": {
  "kernelspec": {
   "display_name": "Python 3",
   "language": "python",
   "name": "python3"
  },
  "language_info": {
   "codemirror_mode": {
    "name": "ipython",
    "version": 3
   },
   "file_extension": ".py",
   "mimetype": "text/x-python",
   "name": "python",
   "nbconvert_exporter": "python",
   "pygments_lexer": "ipython3",
   "version": "3.8.5"
  }
 },
 "nbformat": 4,
 "nbformat_minor": 4
}
