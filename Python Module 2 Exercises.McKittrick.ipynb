{
 "cells": [
  {
   "cell_type": "markdown",
   "metadata": {},
   "source": [
    "1. Print out a data type of a variable?"
   ]
  },
  {
   "cell_type": "code",
   "execution_count": 5,
   "metadata": {},
   "outputs": [
    {
     "data": {
      "text/plain": [
       "str"
      ]
     },
     "execution_count": 5,
     "metadata": {},
     "output_type": "execute_result"
    }
   ],
   "source": [
    "type(\"Tyler\")"
   ]
  },
  {
   "cell_type": "markdown",
   "metadata": {},
   "source": [
    "2. Round 4.5667 to the nearest hundreth using a build-in function, round()."
   ]
  },
  {
   "cell_type": "code",
   "execution_count": 3,
   "metadata": {},
   "outputs": [
    {
     "data": {
      "text/plain": [
       "4.57"
      ]
     },
     "execution_count": 3,
     "metadata": {},
     "output_type": "execute_result"
    }
   ],
   "source": [
    "round(4.5667, 2)"
   ]
  },
  {
   "cell_type": "markdown",
   "metadata": {},
   "source": [
    "3. Convert \"657\" to an integer data type"
   ]
  },
  {
   "cell_type": "code",
   "execution_count": 4,
   "metadata": {},
   "outputs": [
    {
     "name": "stdout",
     "output_type": "stream",
     "text": [
      "657\n"
     ]
    }
   ],
   "source": [
    "a = \"657\"\n",
    "print(int(a))"
   ]
  },
  {
   "cell_type": "markdown",
   "metadata": {},
   "source": [
    "4. Write a function to calculate the miles per gallon.\n",
    "Get a miles driven and gallons used from a user and call your function to calculate the miles per gallon. "
   ]
  },
  {
   "cell_type": "code",
   "execution_count": 29,
   "metadata": {},
   "outputs": [
    {
     "name": "stdout",
     "output_type": "stream",
     "text": [
      "How many miles have you driven? 147\n",
      "How many gallons have you used? 6\n",
      "Miles per gallon: 24.5\n"
     ]
    }
   ],
   "source": [
    "def miles_per_gallon():\n",
    "    a = input(\"How many miles have you driven? \")\n",
    "    a = int(a)\n",
    "    b = input(\"How many gallons have you used? \")\n",
    "    b = int(b)\n",
    "    x = a/b\n",
    "    x = round(x, 2)\n",
    "    print(f\"Miles per gallon: {x}\")\n",
    "miles_per_gallon()"
   ]
  },
  {
   "cell_type": "markdown",
   "metadata": {},
   "source": [
    "5. Enhance your function from exercise 3. Additionally, get a gas price per gallon from a user and write a program to compute the total gas cost and cost per mile. \n",
    "\n",
    "The output should look something like this:\n",
    "\n",
    "    Enter miles driven:            150\n",
    "    Enter gallons of gas used:     15\n",
    "    Enter cost per gallon:          3\n",
    "\n",
    "    Miles Per Gallon:   10.0\n",
    "    Total Gas Cost:     45.0\n",
    "    Cost per Mile:      0.3\n"
   ]
  },
  {
   "cell_type": "code",
   "execution_count": 43,
   "metadata": {},
   "outputs": [
    {
     "name": "stdout",
     "output_type": "stream",
     "text": [
      "How many miles have you driven? 147\n",
      "How many gallons have you used? 6\n",
      "How much does gas cost per gallon? 3.10\n",
      "Miles per gallon: 24.5\n",
      "Gallons of gas used: 6\n",
      "Cost per gallon: $3.1\n",
      "Miles per Gallon: 24.5\n",
      "Total Gas Cost: $18.6\n",
      "Cost per Mile: $0.13\n"
     ]
    }
   ],
   "source": [
    "def miles_per_gallon():\n",
    "    miles_driven = input(\"How many miles have you driven? \")\n",
    "    miles_driven = int(miles_driven)\n",
    "\n",
    "    gallons_used = input(\"How many gallons have you used? \")\n",
    "    gallons_used = int(gallons_used)\n",
    "\n",
    "    cost_gallon = input(\"How much does gas cost per gallon? \")\n",
    "    cost_gallon = float(cost_gallon)\n",
    "   \n",
    "    miles_per_gallon = miles_driven/gallons_used\n",
    "   \n",
    "    total_cost = gallons_used * cost_gallon\n",
    "    \n",
    "    \n",
    "    raw_cost_per_mile = total_cost/miles_driven\n",
    "    round_cost_per_mile = round(raw_cost_per_mile, 2)\n",
    "    \n",
    "    \n",
    "    print(f\"Miles per gallon: {miles_per_gallon}\")\n",
    "    print(f\"Gallons of gas used: {gallons_used}\")\n",
    "    print(f\"Cost per gallon: ${cost_gallon}\")\n",
    "    \n",
    "    print(f\"Miles per Gallon: {miles_per_gallon}\")\n",
    "    print(f\"Total Gas Cost: ${total_cost}\")\n",
    "    print(f\"Cost per Mile: ${round_cost_per_mile}\")\n",
    "    \n",
    "miles_per_gallon()"
   ]
  },
  {
   "cell_type": "markdown",
   "metadata": {},
   "source": [
    "6. Write a function called multiply_two() that accepts two parameters. The function should print a message like '15 + 2 = 17'.  Randomly generate two numbers between 1 and 100, then call the function with the two random numbers."
   ]
  },
  {
   "cell_type": "code",
   "execution_count": 39,
   "metadata": {},
   "outputs": [
    {
     "name": "stdout",
     "output_type": "stream",
     "text": [
      "100 + 73 = 173\n"
     ]
    }
   ],
   "source": [
    "import random as rand\n",
    "\n",
    "def add_two(a, b):\n",
    "    a = rand.randint(1, 100)\n",
    "    b = rand.randint(1, 100)\n",
    "    x = a+b\n",
    "    print(f\"{a} + {b} = {x}\")\n",
    "add_two(1, 100)"
   ]
  },
  {
   "cell_type": "code",
   "execution_count": 41,
   "metadata": {},
   "outputs": [
    {
     "name": "stdout",
     "output_type": "stream",
     "text": [
      "49 + 53 = 102\n"
     ]
    }
   ],
   "source": [
    "import random as rand\n",
    "\n",
    "def add_two(rand1, rand2):\n",
    "    print(F\"{rand1} + {rand2} = {rand1+rand2}\")\n",
    "\n",
    "add_two(rand.randint(1,100), rand.randint(1,100))"
   ]
  },
  {
   "cell_type": "markdown",
   "metadata": {},
   "source": [
    "7. Write a function called make_shirt() that accepts a size and the text of a message. The function should print a sentence summarizing the size of the shirt and the message printed on it. The default shirt size is large and default message is 'I love Python!' Make a default size shirt with a message, a medium shirt with the default message, and a shirt of any size with a different message."
   ]
  },
  {
   "cell_type": "code",
   "execution_count": 45,
   "metadata": {},
   "outputs": [
    {
     "name": "stdout",
     "output_type": "stream",
     "text": [
      "This is size large! \n",
      "Message: I love Python! \n",
      "This is size large! \n",
      "Message: I love Python, too! \n",
      "This is size medium! \n",
      "Message: I love Python! \n",
      "This is size small! \n",
      "Message: I kinda like Python! \n"
     ]
    }
   ],
   "source": [
    "def make_shirt(size = \"large\", text = \"I love Python!\"):\n",
    "    print(f\"This is size {size}! \\nMessage: {text} \")\n",
    "    \n",
    "make_shirt() #default size, default message\n",
    "make_shirt(text = \"I love Python, too!\") #custom message for the default size\n",
    "make_shirt(size = \"medium\")\n",
    "make_shirt(size = \"small\", text = \"I kinda like Python!\")"
   ]
  },
  {
   "cell_type": "markdown",
   "metadata": {},
   "source": [
    "8. Create a function for a multiplication table.  Get a number from a user and then call you function which produces a multiplication table for that number.\n",
    "The output should look something like this:\n",
    "\n",
    "        Enter a number: 3\n",
    "        3 X 1 = 3\n",
    "        3 X 2 = 6\n",
    "        3 X 3 = 9\n",
    "        3 X 4 = 12\n",
    "        3 X 5 = 15\n",
    "        3 X 6 = 18\n",
    "        3 X 7 = 21\n",
    "        3 X 8 = 24\n",
    "        3 X 9 = 27\n",
    "        "
   ]
  },
  {
   "cell_type": "code",
   "execution_count": 47,
   "metadata": {},
   "outputs": [
    {
     "name": "stdout",
     "output_type": "stream",
     "text": [
      "Enter a number: \n",
      "8\n",
      "8 x 1 = 8\n",
      "8 x 2 = 16\n",
      "8 x 3 = 24\n",
      "8 x 4 = 32\n",
      "8 x 5 = 40\n",
      "8 x 6 = 48\n",
      "8 x 7 = 56\n",
      "8 x 8 = 64\n",
      "8 x 9 = 72\n"
     ]
    }
   ],
   "source": [
    "def multiplication_table(num):\n",
    "    print(f\"{num} x 1 = {num*1}\")\n",
    "    print(f\"{num} x 2 = {num*2}\")\n",
    "    print(f\"{num} x 3 = {num*3}\")\n",
    "    print(f\"{num} x 4 = {num*4}\")\n",
    "    print(f\"{num} x 5 = {num*5}\")\n",
    "    print(f\"{num} x 6 = {num*6}\")\n",
    "    print(f\"{num} x 7 = {num*7}\")\n",
    "    print(f\"{num} x 8 = {num*8}\")\n",
    "    print(f\"{num} x 9 = {num*9}\")\n",
    "\n",
    "print(\"Enter a number: \")\n",
    "number = int(input())\n",
    "multiplication_table(number)"
   ]
  },
  {
   "cell_type": "markdown",
   "metadata": {},
   "source": [
    "9. Write a function that accepts a string and returns a string that is \n",
    "    - without any leading nor trailing blanks\n",
    "    - converts to all capital letters\n",
    "    - and replaces all blanks with a period(.).  \n",
    "\n",
    "Write a program to accept a string from a user then call your function and display the original string and changed string.  \n",
    "\n",
    "The output should look something like this:\n",
    "\n",
    "        Enter a text: may your dreams come true\n",
    "        \n",
    "        Original Text: may your dreams come true\n",
    "        New Text: MAY.YOUR.DREAMS.COME.TRUE"
   ]
  },
  {
   "cell_type": "code",
   "execution_count": 49,
   "metadata": {},
   "outputs": [
    {
     "name": "stdout",
     "output_type": "stream",
     "text": [
      "Enter a text: My name is Tyler and yours in not.    \n",
      "Original text: My name is Tyler and yours in not.     \n",
      "Converted text: MY.NAME.IS.TYLER.AND.YOURS.IN.NOT.\n"
     ]
    }
   ],
   "source": [
    "def convert_text(orig_text):\n",
    "    temp_str = orig_text.strip()\n",
    "    temp_str = temp_str.upper()\n",
    "    temp_str = temp_str.replace(\" \", \".\")\n",
    "    return temp_str\n",
    "user_text = input(\"Enter a text: \")\n",
    "new_text = convert_text(user_text)\n",
    "\n",
    "print(f\"Original text: {user_text} \\nConverted text: {new_text}\")"
   ]
  },
  {
   "cell_type": "markdown",
   "metadata": {},
   "source": [
    "10. Write a function that returns a randomly selected character from a passed string. Write a program to accept a string from a user then call your function and display the original string and selected character.\n",
    "\n",
    "The output should look something like this:\n",
    "\n",
    "        Enter a text: functions\n",
    "        Original Text:\tfunctions\n",
    "        Random character:\ts"
   ]
  },
  {
   "cell_type": "code",
   "execution_count": 51,
   "metadata": {},
   "outputs": [
    {
     "name": "stdout",
     "output_type": "stream",
     "text": [
      "Enter a message: Python\n",
      "Original text: Python\n",
      "o\n"
     ]
    }
   ],
   "source": [
    "import random as rand\n",
    "\n",
    "def rand_char(message):\n",
    "    cont = len(message) #len counts the number of characters in a string\n",
    "    random = rand.randint(0, cont-1) #start with 0 because that's where the index begins\n",
    "    print(message[random]) \n",
    "\n",
    "message = input(\"Enter a message: \")\n",
    "print(f\"Original text: {message}\")\n",
    "rand_char(message)"
   ]
  }
 ],
 "metadata": {
  "kernelspec": {
   "display_name": "Python 3",
   "language": "python",
   "name": "python3"
  },
  "language_info": {
   "codemirror_mode": {
    "name": "ipython",
    "version": 3
   },
   "file_extension": ".py",
   "mimetype": "text/x-python",
   "name": "python",
   "nbconvert_exporter": "python",
   "pygments_lexer": "ipython3",
   "version": "3.8.5"
  }
 },
 "nbformat": 4,
 "nbformat_minor": 4
}
