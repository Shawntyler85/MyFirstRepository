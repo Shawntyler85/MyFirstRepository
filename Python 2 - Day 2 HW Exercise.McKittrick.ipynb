{
 "cells": [
  {
   "cell_type": "markdown",
   "metadata": {},
   "source": [
    "# OOP - Composition, Encapsulation, & Inheritance"
   ]
  },
  {
   "cell_type": "markdown",
   "metadata": {},
   "source": [
    "## Exercise 1: \n",
    "Create a Temperature Converter program using OOP by creating a Temperature class with two private attributes to store Fahrenheit and Celsius degrees. In the Temperature class, define methods that \n",
    "- sets the private attributes. When you set one unit of temperature, it should calculate and set the other unit of temperature. For example, when you set degrees in Fahrenheit, it should calculate and set in Celsius degrees. \n",
    "- gets the hidden attributes that round the number to 2 decimal places. \n",
    "\n",
    "The output should look something like following:\n",
    "\n",
    "    MENU\n",
    "    1. Fahrenheit to Celsius\n",
    "    2. Celsius to Fahrenheit\n",
    "    3. Quit\n",
    "    \n",
    "    Enter a menu option: 1\n",
    "    Enter degrees in Fahrenheit: 99\n",
    "    99.00 oF is 37.22 oC.\n",
    "    \n",
    "    Enter a menu option: 2\n",
    "    Enter degrees in Celsius: 37.22\n",
    "    37.22 oC is 99.00 oF.\n",
    "    \n",
    "    Enter a menu option: 3\n",
    "    Bye\n"
   ]
  },
  {
   "cell_type": "code",
   "execution_count": 4,
   "metadata": {},
   "outputs": [
    {
     "name": "stdout",
     "output_type": "stream",
     "text": [
      "Menu (Please enter one of the options below)\n",
      "\n",
      "1. Fahr to Celsius\n",
      "2. Celsius to Fahr\n",
      "3. Quit\n",
      "-->1\n",
      "Please enter in degrees Fahrenheit: 100\n",
      "100.0 degrees Fahrenheit is 37.78 celsius\n",
      "Menu (Please enter one of the options below)\n",
      "\n",
      "1. Fahr to Celsius\n",
      "2. Celsius to Fahr\n",
      "3. Quit\n",
      "-->2\n",
      "Please enter in degrees Celsius: 37.78\n",
      "37.78 degrees Celsius is 100.0 fahrenheit\n",
      "Menu (Please enter one of the options below)\n",
      "\n",
      "1. Fahr to Celsius\n",
      "2. Celsius to Fahr\n",
      "3. Quit\n",
      "Please enter 1, 2, or 3\n"
     ]
    },
    {
     "ename": "KeyboardInterrupt",
     "evalue": "Interrupted by user",
     "output_type": "error",
     "traceback": [
      "\u001b[1;31m---------------------------------------------------------------------------\u001b[0m",
      "\u001b[1;31mKeyboardInterrupt\u001b[0m                         Traceback (most recent call last)",
      "\u001b[1;32m<ipython-input-4-4a532242a711>\u001b[0m in \u001b[0;36m<module>\u001b[1;34m\u001b[0m\n\u001b[0;32m     42\u001b[0m         \u001b[0mprint\u001b[0m\u001b[1;33m(\u001b[0m\u001b[1;34mf\"{temp_calc.get_fahr()} degrees Fahrenheit is {temp_calc.get_celsius()} celsius\"\u001b[0m\u001b[1;33m)\u001b[0m\u001b[1;33m\u001b[0m\u001b[1;33m\u001b[0m\u001b[0m\n\u001b[0;32m     43\u001b[0m     \u001b[1;32melif\u001b[0m \u001b[0mchoice\u001b[0m \u001b[1;33m==\u001b[0m \u001b[1;36m2\u001b[0m\u001b[1;33m:\u001b[0m\u001b[1;33m\u001b[0m\u001b[1;33m\u001b[0m\u001b[0m\n\u001b[1;32m---> 44\u001b[1;33m         \u001b[0mcelsius\u001b[0m \u001b[1;33m=\u001b[0m \u001b[0mfloat\u001b[0m\u001b[1;33m(\u001b[0m\u001b[0minput\u001b[0m\u001b[1;33m(\u001b[0m\u001b[1;34m\"Please enter in degrees Celsius: \"\u001b[0m\u001b[1;33m)\u001b[0m\u001b[1;33m)\u001b[0m\u001b[1;33m\u001b[0m\u001b[1;33m\u001b[0m\u001b[0m\n\u001b[0m\u001b[0;32m     45\u001b[0m         \u001b[0mtemp_calc\u001b[0m\u001b[1;33m.\u001b[0m\u001b[0mset_celsius\u001b[0m\u001b[1;33m(\u001b[0m\u001b[0mcelsius\u001b[0m\u001b[1;33m)\u001b[0m\u001b[1;33m\u001b[0m\u001b[1;33m\u001b[0m\u001b[0m\n\u001b[0;32m     46\u001b[0m         \u001b[0mprint\u001b[0m\u001b[1;33m(\u001b[0m\u001b[1;34mf\"{temp_calc.get_celsius()} degrees Celsius is {temp_calc.get_fahr()} fahrenheit\"\u001b[0m\u001b[1;33m)\u001b[0m\u001b[1;33m\u001b[0m\u001b[1;33m\u001b[0m\u001b[0m\n",
      "\u001b[1;32m~\\Anaconda3\\lib\\site-packages\\ipykernel\\kernelbase.py\u001b[0m in \u001b[0;36mraw_input\u001b[1;34m(self, prompt)\u001b[0m\n\u001b[0;32m    858\u001b[0m                 \u001b[1;34m\"raw_input was called, but this frontend does not support input requests.\"\u001b[0m\u001b[1;33m\u001b[0m\u001b[1;33m\u001b[0m\u001b[0m\n\u001b[0;32m    859\u001b[0m             )\n\u001b[1;32m--> 860\u001b[1;33m         return self._input_request(str(prompt),\n\u001b[0m\u001b[0;32m    861\u001b[0m             \u001b[0mself\u001b[0m\u001b[1;33m.\u001b[0m\u001b[0m_parent_ident\u001b[0m\u001b[1;33m,\u001b[0m\u001b[1;33m\u001b[0m\u001b[1;33m\u001b[0m\u001b[0m\n\u001b[0;32m    862\u001b[0m             \u001b[0mself\u001b[0m\u001b[1;33m.\u001b[0m\u001b[0m_parent_header\u001b[0m\u001b[1;33m,\u001b[0m\u001b[1;33m\u001b[0m\u001b[1;33m\u001b[0m\u001b[0m\n",
      "\u001b[1;32m~\\Anaconda3\\lib\\site-packages\\ipykernel\\kernelbase.py\u001b[0m in \u001b[0;36m_input_request\u001b[1;34m(self, prompt, ident, parent, password)\u001b[0m\n\u001b[0;32m    902\u001b[0m             \u001b[1;32mexcept\u001b[0m \u001b[0mKeyboardInterrupt\u001b[0m\u001b[1;33m:\u001b[0m\u001b[1;33m\u001b[0m\u001b[1;33m\u001b[0m\u001b[0m\n\u001b[0;32m    903\u001b[0m                 \u001b[1;31m# re-raise KeyboardInterrupt, to truncate traceback\u001b[0m\u001b[1;33m\u001b[0m\u001b[1;33m\u001b[0m\u001b[1;33m\u001b[0m\u001b[0m\n\u001b[1;32m--> 904\u001b[1;33m                 \u001b[1;32mraise\u001b[0m \u001b[0mKeyboardInterrupt\u001b[0m\u001b[1;33m(\u001b[0m\u001b[1;34m\"Interrupted by user\"\u001b[0m\u001b[1;33m)\u001b[0m \u001b[1;32mfrom\u001b[0m \u001b[1;32mNone\u001b[0m\u001b[1;33m\u001b[0m\u001b[1;33m\u001b[0m\u001b[0m\n\u001b[0m\u001b[0;32m    905\u001b[0m             \u001b[1;32mexcept\u001b[0m \u001b[0mException\u001b[0m \u001b[1;32mas\u001b[0m \u001b[0me\u001b[0m\u001b[1;33m:\u001b[0m\u001b[1;33m\u001b[0m\u001b[1;33m\u001b[0m\u001b[0m\n\u001b[0;32m    906\u001b[0m                 \u001b[0mself\u001b[0m\u001b[1;33m.\u001b[0m\u001b[0mlog\u001b[0m\u001b[1;33m.\u001b[0m\u001b[0mwarning\u001b[0m\u001b[1;33m(\u001b[0m\u001b[1;34m\"Invalid Message:\"\u001b[0m\u001b[1;33m,\u001b[0m \u001b[0mexc_info\u001b[0m\u001b[1;33m=\u001b[0m\u001b[1;32mTrue\u001b[0m\u001b[1;33m)\u001b[0m\u001b[1;33m\u001b[0m\u001b[1;33m\u001b[0m\u001b[0m\n",
      "\u001b[1;31mKeyboardInterrupt\u001b[0m: Interrupted by user"
     ]
    }
   ],
   "source": [
    "class Temperature:\n",
    "    \n",
    "    def __init__(self):\n",
    "        self.__celsius = 0.0\n",
    "        self.__fahr = 0.0\n",
    "    \n",
    "    def set_celsius(self, celsius):\n",
    "        self.__celsius = celsius\n",
    "        self.__fahr = (celsius * (9/5)) + 32\n",
    "    \n",
    "    def set_fahr(self, fahr):\n",
    "        self.__fahr = fahr\n",
    "        self.__celsius = (fahr-32) * (5/9)\n",
    "    \n",
    "    def get_celsius(self):\n",
    "        return round(self.__celsius, 2)\n",
    "    \n",
    "    def get_fahr(self):\n",
    "        return round(self.__fahr, 2)\n",
    "\n",
    "def menu():\n",
    "    print(\"Menu (Please enter one of the options below)\\n\")\n",
    "    print(\"1. Fahr to Celsius\")\n",
    "    print(\"2. Celsius to Fahr\")\n",
    "    print(\"3. Quit\")\n",
    "\n",
    "again = True\n",
    "\n",
    "temp_calc = Temperature()\n",
    "\n",
    "while again:\n",
    "    menu()\n",
    "    try:\n",
    "        choice = input(\"-->\")\n",
    "        choice = int(choice)\n",
    "    except:\n",
    "        print(\"Please enter 1, 2, or 3\")\n",
    "        \n",
    "    if choice == 1:\n",
    "        fahr = float(input(\"Please enter in degrees Fahrenheit: \"))\n",
    "        temp_calc.set_fahr(fahr)\n",
    "        print(f\"{temp_calc.get_fahr()} degrees Fahrenheit is {temp_calc.get_celsius()} celsius\")\n",
    "    elif choice == 2:\n",
    "        celsius = float(input(\"Please enter in degrees Celsius: \"))\n",
    "        temp_calc.set_celsius(celsius)\n",
    "        print(f\"{temp_calc.get_celsius()} degrees Celsius is {temp_calc.get_fahr()} fahrenheit\")\n",
    "    elif choice == 3:\n",
    "        again = False\n",
    "    else:\n",
    "        continue"
   ]
  },
  {
   "cell_type": "markdown",
   "metadata": {},
   "source": [
    "## Exercise 2: \n",
    "Create a <b>Privileges</b> class that has privileges, a private attribute. It can store a list of strings such as \"can add\", \"can delete\", and \"can modify\".  Write a method called show_privileges(). \n",
    "\n",
    "Create a class called <b>Admin</b> that inherits from the <b>Person</b> class (see next cell). Make a Privileges instance as an attribute in the Admin class. Create a new instance of Admin and use your method to show its privileges.\n"
   ]
  },
  {
   "cell_type": "code",
   "execution_count": null,
   "metadata": {},
   "outputs": [],
   "source": [
    "class Person :\n",
    "    \n",
    "    def __init__(self, name, age, gender) :\n",
    "        self.__name = name\n",
    "        self.__age = age\n",
    "        self.__gender = gender\n",
    "\n",
    "    def get_name(self) :\n",
    "        return self.__name\n",
    "    \n",
    "    def get_info(self) :\n",
    "        return f\"Name: {self.__name}\\nAge: {self.__age}\\nGender: {self.__gender}\"\n",
    "\n",
    "class Privileges:\n",
    "    def __init__(self):\n",
    "        self.__privileges = []\n",
    "    \n",
    "    def add_privileges(self, priv):\n",
    "        self.__privileges.append(priv)\n",
    "    \n",
    "    def show_privileges(self):\n",
    "        msg = \"\"\n",
    "        for priv in self.__privileges:\n",
    "            msg += \"-\" + priv\n",
    "            msg += \"\\n\"\n",
    "        return msg\n",
    "\n",
    "    class Amin(Person):\n",
    "        \n",
    "        def __init__(self, name, age, gender):\n",
    "            super().__init__(name, age, gender)\n",
    "            self.privileges = Privileges()\n",
    "        \n",
    "        def add_privileges(self, priv):\n",
    "            self.privileges.add_privilege(priv)\n",
    "\n",
    "admin = Admin(\"Pepe\", 20, \"M\")\n",
    "admin.privileges.add_privilege(\"can add\")\n",
    "admin.add_privileges(\"can modify\")\n",
    "print(admin.privileges.show_privileges())\n",
    "\n",
    "              "
   ]
  },
  {
   "cell_type": "markdown",
   "metadata": {},
   "source": [
    "## Exercise 3:\n",
    "1. Use the Product class from next cell\n",
    "2. Add get_description() method to Product class\n",
    "3. Create Book class inherited from the Product class. Add author attribute to the Book class and make modification to get_description() method\n",
    "4. Create Movie class inherited from the Product class. Add year attributes. Add/modify necessary methods"
   ]
  },
  {
   "cell_type": "code",
   "execution_count": 17,
   "metadata": {},
   "outputs": [
    {
     "name": "stdout",
     "output_type": "stream",
     "text": [
      "Name: product 1\n",
      "Price: 100\n",
      "Discount Amount: $25.00\n",
      "Discounted Price: $75.00\n",
      "A product called product 1 with a final price of $75.00\n",
      "Name: The Old Man and the Sea\n",
      "Price: 35\n",
      "Discount Amount: $3.50\n",
      "Discounted Price: $31.50\n",
      "<bound method Book.get_description of <__main__.Book object at 0x000001518019E220>>\n",
      "------------\n"
     ]
    },
    {
     "ename": "NameError",
     "evalue": "name 'Movie' is not defined",
     "output_type": "error",
     "traceback": [
      "\u001b[1;31m---------------------------------------------------------------------------\u001b[0m",
      "\u001b[1;31mNameError\u001b[0m                                 Traceback (most recent call last)",
      "\u001b[1;32m<ipython-input-17-a578e04aff47>\u001b[0m in \u001b[0;36m<module>\u001b[1;34m\u001b[0m\n\u001b[0;32m     38\u001b[0m         \u001b[1;32mreturn\u001b[0m \u001b[0mmsg\u001b[0m\u001b[1;33m\u001b[0m\u001b[1;33m\u001b[0m\u001b[0m\n\u001b[0;32m     39\u001b[0m \u001b[1;33m\u001b[0m\u001b[0m\n\u001b[1;32m---> 40\u001b[1;33m \u001b[1;32mclass\u001b[0m \u001b[0mMovie\u001b[0m\u001b[1;33m(\u001b[0m\u001b[0mProduct\u001b[0m\u001b[1;33m)\u001b[0m\u001b[1;33m:\u001b[0m\u001b[1;33m\u001b[0m\u001b[1;33m\u001b[0m\u001b[0m\n\u001b[0m\u001b[0;32m     41\u001b[0m     \u001b[1;32mdef\u001b[0m \u001b[0m__init__\u001b[0m\u001b[1;33m(\u001b[0m\u001b[0mself\u001b[0m\u001b[1;33m,\u001b[0m \u001b[0mname\u001b[0m\u001b[1;33m,\u001b[0m \u001b[0mprice\u001b[0m\u001b[1;33m,\u001b[0m \u001b[0mdiscount_rate\u001b[0m\u001b[1;33m,\u001b[0m \u001b[0myear\u001b[0m\u001b[1;33m)\u001b[0m\u001b[1;33m:\u001b[0m\u001b[1;33m\u001b[0m\u001b[1;33m\u001b[0m\u001b[0m\n\u001b[0;32m     42\u001b[0m         \u001b[0msuper\u001b[0m\u001b[1;33m(\u001b[0m\u001b[1;33m)\u001b[0m\u001b[1;33m.\u001b[0m\u001b[0m__init__\u001b[0m\u001b[1;33m(\u001b[0m\u001b[0mname\u001b[0m\u001b[1;33m,\u001b[0m \u001b[0mprice\u001b[0m\u001b[1;33m,\u001b[0m \u001b[0mdiscount_rate\u001b[0m\u001b[1;33m)\u001b[0m\u001b[1;33m\u001b[0m\u001b[1;33m\u001b[0m\u001b[0m\n",
      "\u001b[1;32m<ipython-input-17-a578e04aff47>\u001b[0m in \u001b[0;36mMovie\u001b[1;34m()\u001b[0m\n\u001b[0;32m     54\u001b[0m     \u001b[0mprint\u001b[0m\u001b[1;33m(\u001b[0m\u001b[0mb1\u001b[0m\u001b[1;33m.\u001b[0m\u001b[0mget_description\u001b[0m\u001b[1;33m)\u001b[0m\u001b[1;33m\u001b[0m\u001b[1;33m\u001b[0m\u001b[0m\n\u001b[0;32m     55\u001b[0m     \u001b[0mprint\u001b[0m\u001b[1;33m(\u001b[0m\u001b[1;34m\"-\"\u001b[0m \u001b[1;33m*\u001b[0m \u001b[1;36m12\u001b[0m\u001b[1;33m)\u001b[0m\u001b[1;33m\u001b[0m\u001b[1;33m\u001b[0m\u001b[0m\n\u001b[1;32m---> 56\u001b[1;33m     \u001b[0mm1\u001b[0m \u001b[1;33m=\u001b[0m \u001b[0mMovie\u001b[0m\u001b[1;33m(\u001b[0m\u001b[1;34m\"Star Wars\"\u001b[0m\u001b[1;33m,\u001b[0m \u001b[1;36m30\u001b[0m\u001b[1;33m,\u001b[0m \u001b[1;36m25\u001b[0m\u001b[1;33m,\u001b[0m \u001b[1;36m1977\u001b[0m\u001b[1;33m)\u001b[0m\u001b[1;33m\u001b[0m\u001b[1;33m\u001b[0m\u001b[0m\n\u001b[0m\u001b[0;32m     57\u001b[0m     \u001b[0mprint\u001b[0m\u001b[1;33m(\u001b[0m\u001b[0mm1\u001b[0m\u001b[1;33m.\u001b[0m\u001b[0mget_info\u001b[0m\u001b[1;33m(\u001b[0m\u001b[1;33m)\u001b[0m\u001b[1;33m)\u001b[0m\u001b[1;33m\u001b[0m\u001b[1;33m\u001b[0m\u001b[0m\n\u001b[0;32m     58\u001b[0m     \u001b[0mprint\u001b[0m\u001b[1;33m(\u001b[0m\u001b[0mm1\u001b[0m\u001b[1;33m.\u001b[0m\u001b[0mget_description\u001b[0m\u001b[1;33m(\u001b[0m\u001b[1;33m)\u001b[0m\u001b[1;33m)\u001b[0m\u001b[1;33m\u001b[0m\u001b[1;33m\u001b[0m\u001b[0m\n",
      "\u001b[1;31mNameError\u001b[0m: name 'Movie' is not defined"
     ]
    }
   ],
   "source": [
    "# From Day 1 Class Demo\n",
    "class Product : \n",
    "    \"\"\"A simple attempt to model a product.\"\"\"\n",
    "    \n",
    "    def __init__(self, name, price, discount_rate) :\n",
    "        \"\"\"Initialize name, price, and discount_rate attributes\"\"\"\n",
    "        self.name = name\n",
    "        self.price = price\n",
    "        self.discount_rate = discount_rate\n",
    "        \n",
    "        \n",
    "    def get_discount_amount(self) :\n",
    "        \"\"\"Computes a discount calculation\"\"\"\n",
    "        return self.price * self.discount_rate / 100\n",
    "    \n",
    "        \n",
    "    def get_info(self) :\n",
    "        return(f\"Name: {self.name}\\n\" + \n",
    "                f\"Price: {self.price}\\n\" +\n",
    "                f\"Discount Amount: ${self.get_discount_amount():,.2f}\\n\" +\n",
    "                f\"Discounted Price: ${self.get_sale_price():,.2f}\")\n",
    "    \n",
    "    def get_sale_price(self) :\n",
    "        \"\"\"Calls another method to find a sale price\"\"\"\n",
    "        return self.price - self.get_discount_amount()\n",
    "    \n",
    "    def get_description(self):\n",
    "        return f\"A product called {self.name} with a final price of ${self.get_sale_price():,.2f}\"\n",
    "    \n",
    "class Book(Product):\n",
    "    def __init__(self, name, price, discount_rate, author):\n",
    "        super().__init__(name, price, discount_rate)\n",
    "        self.author = author\n",
    "    \n",
    "    def get_description(self):\n",
    "        msg = super().get_description()\n",
    "        msg = msg.replace(\"product\", f\"book by {self.author}\")\n",
    "        return msg\n",
    "    \n",
    "class Movie(Product):\n",
    "    def __init__(self, name, price, discount_rate, year):\n",
    "        super().__init__(name, price, discount_rate)\n",
    "        self.year = year\n",
    "    \n",
    "    def get_description(self):\n",
    "        msg = super().get_description()\n",
    "        msg = msg.replace(\"product\", f\"movie from {self.year}\")\n",
    "    \n",
    "    p1 = Product(\"product 1\", 100, 25)\n",
    "    print(p1.get_info())\n",
    "    print(p1.get_description())\n",
    "    b1 = Book(\"The Old Man and the Sea\", 35, 10, \"Hemingway\")\n",
    "    print(b1.get_info())\n",
    "    print(b1.get_description)\n",
    "    print(\"-\" * 12)\n",
    "    m1 = Movie(\"Star Wars\", 30, 25, 1977)\n",
    "    print(m1.get_info())\n",
    "    print(m1.get_description())\n",
    "        \n",
    "        "
   ]
  },
  {
   "cell_type": "markdown",
   "metadata": {},
   "source": [
    "## Exercise 4\n",
    "Create a <b>MyDate</b> class with month, day, year, hour, minute, and second <b>private attributes</b>.  Create an initialization method that takes a string in the format of \"mm-dd-yyyy hh:mm:ss\". Also create necessary public methods as needed.  \n",
    "\n",
    "Then, run below program to show your class works:\n",
    "\n",
    "    today = MyDate(\"10-10-2020 12:11:22\")\n",
    "    print(today.get_datetime())\n",
    "    today.set_datetime(\"11-31-1999 02:33:22\")\n",
    "    print(today.get_datetime())\n",
    "    print(today.get_datetime(month_first=False))"
   ]
  },
  {
   "cell_type": "code",
   "execution_count": 12,
   "metadata": {},
   "outputs": [
    {
     "ename": "NameError",
     "evalue": "name 'MyDate' is not defined",
     "output_type": "error",
     "traceback": [
      "\u001b[1;31m---------------------------------------------------------------------------\u001b[0m",
      "\u001b[1;31mNameError\u001b[0m                                 Traceback (most recent call last)",
      "\u001b[1;32m<ipython-input-12-59d01c9422aa>\u001b[0m in \u001b[0;36m<module>\u001b[1;34m\u001b[0m\n\u001b[0;32m      1\u001b[0m \u001b[1;31m# main program\u001b[0m\u001b[1;33m\u001b[0m\u001b[1;33m\u001b[0m\u001b[1;33m\u001b[0m\u001b[0m\n\u001b[1;32m----> 2\u001b[1;33m \u001b[0mtoday\u001b[0m \u001b[1;33m=\u001b[0m \u001b[0mMyDate\u001b[0m\u001b[1;33m(\u001b[0m\u001b[1;34m\"10-10-2020 12:11:22\"\u001b[0m\u001b[1;33m)\u001b[0m\u001b[1;33m\u001b[0m\u001b[1;33m\u001b[0m\u001b[0m\n\u001b[0m\u001b[0;32m      3\u001b[0m \u001b[0mprint\u001b[0m\u001b[1;33m(\u001b[0m\u001b[0mtoday\u001b[0m\u001b[1;33m.\u001b[0m\u001b[0mget_datetime\u001b[0m\u001b[1;33m(\u001b[0m\u001b[1;33m)\u001b[0m\u001b[1;33m)\u001b[0m\u001b[1;33m\u001b[0m\u001b[1;33m\u001b[0m\u001b[0m\n\u001b[0;32m      4\u001b[0m \u001b[0mtoday\u001b[0m\u001b[1;33m.\u001b[0m\u001b[0mset_datetime\u001b[0m\u001b[1;33m(\u001b[0m\u001b[1;34m\"11-31-1999 02:33:22\"\u001b[0m\u001b[1;33m)\u001b[0m\u001b[1;33m\u001b[0m\u001b[1;33m\u001b[0m\u001b[0m\n\u001b[0;32m      5\u001b[0m \u001b[0mprint\u001b[0m\u001b[1;33m(\u001b[0m\u001b[0mtoday\u001b[0m\u001b[1;33m.\u001b[0m\u001b[0mget_datetime\u001b[0m\u001b[1;33m(\u001b[0m\u001b[1;33m)\u001b[0m\u001b[1;33m)\u001b[0m\u001b[1;33m\u001b[0m\u001b[1;33m\u001b[0m\u001b[0m\n",
      "\u001b[1;31mNameError\u001b[0m: name 'MyDate' is not defined"
     ]
    }
   ],
   "source": [
    "# main program\n",
    "today = MyDate(\"10-10-2020 12:11:22\")\n",
    "print(today.get_datetime())\n",
    "today.set_datetime(\"11-31-1999 02:33:22\")\n",
    "print(today.get_datetime())\n",
    "print(today.get_datetime(month_first=False))"
   ]
  },
  {
   "cell_type": "code",
   "execution_count": 16,
   "metadata": {},
   "outputs": [
    {
     "name": "stdout",
     "output_type": "stream",
     "text": [
      "10-10-2020 12:11:22\n",
      "11-31-1999 02:33:22\n",
      "11-31-1999 02:33:22\n"
     ]
    }
   ],
   "source": [
    "class MyDate:\n",
    "    def __init__(self, full_date):\n",
    "        date_time = full_date.split(\" \")\n",
    "        date = date_time[0]\n",
    "        time = date_time[1]\n",
    "        \n",
    "        temp_date = date.split(\"-\")\n",
    "        self.__month = temp_date[0]\n",
    "        self.__day = temp_date[1]\n",
    "        self.__year = temp_date[2]\n",
    "        \n",
    "        temp_time = time.split(\":\")\n",
    "        self.__hour = temp_time[0]\n",
    "        self.__minute = temp_time[1]\n",
    "        self.__second = temp_time[2]\n",
    "        \n",
    "    def get_datetime(self, month_first = True):\n",
    "        if month_first: #if month_first == True\n",
    "            return f\"{self.__month}-{self.__day}-{self.__year} {self.__hour}:{self.__minute}:{self.__second}\"\n",
    "        else:\n",
    "            return f\"{self.__month}-{self.__day}-{self.__year} {self.__hour}:{self.__minute}:{self.__second}\"\n",
    "    \n",
    "    def set_datetime(self, datetime):\n",
    "        self.__init__(datetime)\n",
    "\n",
    "        # main program\n",
    "today = MyDate(\"10-10-2020 12:11:22\")\n",
    "print(today.get_datetime())\n",
    "today.set_datetime(\"11-31-1999 02:33:22\")\n",
    "print(today.get_datetime())\n",
    "print(today.get_datetime(month_first=False))"
   ]
  },
  {
   "cell_type": "markdown",
   "metadata": {},
   "source": [
    "## Challenge\n",
    "\n",
    "Modify <b>MyDate</b> class: \n",
    "\n",
    "    - to validate date & time (for month, days, hour, minute, and second). \n",
    "    - to add days\n",
    "    - to add hours"
   ]
  },
  {
   "cell_type": "code",
   "execution_count": null,
   "metadata": {},
   "outputs": [],
   "source": []
  }
 ],
 "metadata": {
  "kernelspec": {
   "display_name": "Python 3",
   "language": "python",
   "name": "python3"
  },
  "language_info": {
   "codemirror_mode": {
    "name": "ipython",
    "version": 3
   },
   "file_extension": ".py",
   "mimetype": "text/x-python",
   "name": "python",
   "nbconvert_exporter": "python",
   "pygments_lexer": "ipython3",
   "version": "3.8.5"
  }
 },
 "nbformat": 4,
 "nbformat_minor": 4
}
