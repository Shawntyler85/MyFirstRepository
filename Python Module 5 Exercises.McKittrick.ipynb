{
 "cells": [
  {
   "cell_type": "markdown",
   "metadata": {},
   "source": [
    "1. Create a dictionary named pairs with key value pairs of hello and fire, 3 and seven, strong and 45. Print out the dictionary."
   ]
  },
  {
   "cell_type": "code",
   "execution_count": 34,
   "metadata": {},
   "outputs": [
    {
     "name": "stdout",
     "output_type": "stream",
     "text": [
      "{'hello': 'fire', 3: 'seven', 'strong': 45}\n"
     ]
    }
   ],
   "source": [
    "pairs = {\"hello\": \"fire\", 3: \"seven\", \"strong\": 45}\n",
    "print(pairs)"
   ]
  },
  {
   "cell_type": "markdown",
   "metadata": {},
   "source": [
    "2. Add welcome and 56 pair into pairs dictionary. Print out the dictionary. "
   ]
  },
  {
   "cell_type": "code",
   "execution_count": 35,
   "metadata": {},
   "outputs": [
    {
     "name": "stdout",
     "output_type": "stream",
     "text": [
      "{'hello': 'fire', 3: 'seven', 'strong': 45, 'welcome': '56 pair'}\n"
     ]
    }
   ],
   "source": [
    "pairs[\"welcome\"] = \"56 pair\"\n",
    "print(pairs)"
   ]
  },
  {
   "cell_type": "markdown",
   "metadata": {},
   "source": [
    "3. Delete one item from the Dictionary. Print deleted item and the dictionary."
   ]
  },
  {
   "cell_type": "code",
   "execution_count": 36,
   "metadata": {},
   "outputs": [
    {
     "name": "stdout",
     "output_type": "stream",
     "text": [
      "('welcome', '56 pair')\n",
      "{'hello': 'fire', 3: 'seven', 'strong': 45}\n"
     ]
    }
   ],
   "source": [
    "item = pairs.popitem()\n",
    "print(item)\n",
    "print(pairs)"
   ]
  },
  {
   "cell_type": "markdown",
   "metadata": {},
   "source": [
    "4. Print the value of an item where key is 3 from the dicitonary"
   ]
  },
  {
   "cell_type": "code",
   "execution_count": 5,
   "metadata": {},
   "outputs": [
    {
     "data": {
      "text/plain": [
       "'seven'"
      ]
     },
     "execution_count": 5,
     "metadata": {},
     "output_type": "execute_result"
    }
   ],
   "source": [
    "pairs.get(3)"
   ]
  },
  {
   "cell_type": "markdown",
   "metadata": {},
   "source": [
    "5. Try to find out if the key called hello exist. Print out the key is found if it is there otherwise print out the key is not there."
   ]
  },
  {
   "cell_type": "code",
   "execution_count": 8,
   "metadata": {},
   "outputs": [
    {
     "name": "stdout",
     "output_type": "stream",
     "text": [
      "key is not there\n"
     ]
    }
   ],
   "source": [
    "if \"hello\" in pairs:\n",
    "    print(\"hello exists\")\n",
    "else:\n",
    "    print(\"key is not there\")"
   ]
  },
  {
   "cell_type": "markdown",
   "metadata": {},
   "source": [
    "6. Loop through the dictionary and print out each value. "
   ]
  },
  {
   "cell_type": "code",
   "execution_count": 14,
   "metadata": {},
   "outputs": [
    {
     "name": "stdout",
     "output_type": "stream",
     "text": [
      "seven\n",
      "45\n",
      "56 pair\n"
     ]
    }
   ],
   "source": [
    "for item in pairs.values():\n",
    "    print(item)"
   ]
  },
  {
   "cell_type": "markdown",
   "metadata": {},
   "source": [
    "7. Loop through the dictionary and print out each key."
   ]
  },
  {
   "cell_type": "code",
   "execution_count": 10,
   "metadata": {},
   "outputs": [
    {
     "name": "stdout",
     "output_type": "stream",
     "text": [
      "3\n",
      "strong\n",
      "welcome\n"
     ]
    }
   ],
   "source": [
    "for item in pairs:\n",
    "    print(item)"
   ]
  },
  {
   "cell_type": "markdown",
   "metadata": {},
   "source": [
    "8. Loop through the dictionary and print out each key and value pair. "
   ]
  },
  {
   "cell_type": "code",
   "execution_count": 15,
   "metadata": {},
   "outputs": [
    {
     "name": "stdout",
     "output_type": "stream",
     "text": [
      "(3, 'seven')\n",
      "('strong', 45)\n",
      "('welcome', '56 pair')\n"
     ]
    }
   ],
   "source": [
    "for item in pairs.items():\n",
    "    print(item)"
   ]
  },
  {
   "cell_type": "markdown",
   "metadata": {},
   "source": [
    "9. Make a nested dictionary called parent with 2 children's information: name, age, gender. Print out parent."
   ]
  },
  {
   "cell_type": "code",
   "execution_count": 3,
   "metadata": {},
   "outputs": [
    {
     "name": "stdout",
     "output_type": "stream",
     "text": [
      "{'child1': {'name': 'Tyler', 'age': 7, 'gender': 'male'}, 'child2': {'name': 'Naomi', 'age': 5, 'gender': 'female'}}\n"
     ]
    }
   ],
   "source": [
    "child1 = {\"name\": \"Tyler\", \"age\": 7, \"gender\": \"male\"}\n",
    "child2 = {\"name\": \"Naomi\", \"age\": 5, \"gender\": \"female\"}\n",
    "\n",
    "family = {\"child1\": child1, \"child2\": child2}\n",
    "\n",
    "print(family)"
   ]
  },
  {
   "cell_type": "markdown",
   "metadata": {},
   "source": [
    "10. Add new child to above dictionary. Print out the name of all children."
   ]
  },
  {
   "cell_type": "code",
   "execution_count": 19,
   "metadata": {},
   "outputs": [
    {
     "name": "stdout",
     "output_type": "stream",
     "text": [
      "{'name': 'Tyler', 'age': 7, 'gender': 'male'}\n",
      "{'name': 'Naomi', 'age': 5, 'gender': 'female'}\n",
      "{'name': 'Kaylee', 'age': 7, 'gender': 'female'}\n"
     ]
    }
   ],
   "source": [
    "family[\"child3\"] = {\"name\": \"Kaylee\", \"age\": 9, \"gender\": \"female\"}\n",
    "for item in family.values():\n",
    "    print(item)"
   ]
  },
  {
   "cell_type": "markdown",
   "metadata": {},
   "source": [
    "11. Create a Test Scores program that gets the name of students and test score from a user. Then, generate a list of students who passed and a list of students who failed where passing test score is 60 or above. "
   ]
  },
  {
   "cell_type": "code",
   "execution_count": 32,
   "metadata": {},
   "outputs": [
    {
     "name": "stdout",
     "output_type": "stream",
     "text": [
      "Have you taken the test? (y/n) y\n",
      "Please enter your name: tyler\n",
      "Please enter your test score: 85\n",
      "Have you taken the test? (y/n) y\n",
      "Please enter your name: stella\n",
      "Please enter your test score: 55\n",
      "Have you taken the test? (y/n) n\n",
      "{'pass': {'stella': 55}}\n",
      "{'fail': {'stella': 55}}\n"
     ]
    }
   ],
   "source": [
    "def test_scores():\n",
    "    test = input(\"Have you taken the test? (y/n) \")\n",
    "    \n",
    "    while test == \"y\":\n",
    "        name = input(\"Please enter your name: \")\n",
    "        score = int(input(\"Please enter your test score: \"))\n",
    "        test = input(\"Have you taken the test? (y/n) \")\n",
    "\n",
    "        pass_test[\"pass\"] = {name: score}\n",
    "        fail_test[\"fail\"] = {name: score}   \n",
    "    \n",
    "        def pass_fail():\n",
    "                if score >= 60:\n",
    "                    pass_test\n",
    "                elif score < 60:\n",
    "                    fail_test\n",
    "                elif score > 100:\n",
    "                    print(\"This is not a valid test score.\")\n",
    "                elif score < 0:\n",
    "                    print(\"This is not a valid test score.\")\n",
    "                else:\n",
    "                    print(test)\n",
    "                  \n",
    "test_scores() \n",
    "\n",
    "\n",
    "print(pass_test)\n",
    "print(fail_test)"
   ]
  },
  {
   "cell_type": "code",
   "execution_count": 45,
   "metadata": {},
   "outputs": [
    {
     "name": "stdout",
     "output_type": "stream",
     "text": [
      "Enter student's name: Tyler\n",
      "Enter student's test score: 85\n",
      "Continue? (y/n)y\n",
      "Enter student's name: Stella\n",
      "Enter student's test score: 55\n",
      "Continue? (y/n)y\n",
      "Enter student's name: Naomi\n",
      "Enter student's test score: 90\n",
      "Continue? (y/n)n\n",
      "Students who passed: ['Tyler', 'Naomi']\n",
      "Students who failed: ['Stella']\n"
     ]
    }
   ],
   "source": [
    "passed = []\n",
    "failed = []\n",
    "students = {}\n",
    "\n",
    "stop = False\n",
    "while not stop:\n",
    "    student = input(\"Enter student's name: \")\n",
    "    score = input(\"Enter student's test score: \")\n",
    "    students[student] = float(score)\n",
    "    stop = input(\"Continue? (y/n)\") == \"n\"\n",
    "    \n",
    "for key, value in students.items():\n",
    "    if value >= 60.0:\n",
    "        passed.append(key)\n",
    "    else:\n",
    "        failed.append(key)\n",
    "\n",
    "print(f\"Students who passed: {passed}\")\n",
    "print(f\"Students who failed: {failed}\")"
   ]
  },
  {
   "cell_type": "raw",
   "metadata": {},
   "source": [
    "12. Create a Word Counter program that gets a string of text from a user and then counts the number of times a word occrs in the string. \n",
    "\n",
    "The output should look something like this:\n",
    "\n",
    "    The Word Counter Program\n",
    "    \n",
    "    Enter a text string: \n",
    "    Humpty Dumpty sat on a wall, Humpty Dumpty had a great fall. All the king’s horses and all the king’s men couldn’t put Humpty together again.\n",
    "\n",
    "    a : 2\n",
    "    again : 1\n",
    "    all : 2\n",
    "    and : 1\n",
    "    couldn’t : 1\n",
    "    dumpty : 2\n",
    "    fall : 1\n",
    "    great : 1\n",
    "    had : 1\n",
    "    horses : 1\n",
    "    humpty : 3\n",
    "    king’s : 2\n",
    "    men : 1\n",
    "    on : 1\n",
    "    put : 1\n",
    "    sat : 1\n",
    "    the : 2\n",
    "    together : 1\n",
    "    wall : 1\n",
    "\n",
    "    There were total 26 words in the text string   "
   ]
  },
  {
   "cell_type": "code",
   "execution_count": 40,
   "metadata": {},
   "outputs": [
    {
     "name": "stdout",
     "output_type": "stream",
     "text": [
      "Please enter a string: Humpty Dumpty sat on a wall, Humpty Dumpty had a great fall. All the king’s horses and all the king’s men couldn’t put Humpty together again.\n",
      "humpty: 3\n",
      "dumpty: 2\n",
      "sat: 1\n",
      "on: 1\n",
      "a: 2\n",
      "wall: 1\n",
      "had: 1\n",
      "great: 1\n",
      "fall: 1\n",
      "all: 2\n",
      "the: 2\n",
      "king’s: 2\n",
      "horses: 1\n",
      "and: 1\n",
      "men: 1\n",
      "couldn’t: 1\n",
      "put: 1\n",
      "together: 1\n",
      "again: 1\n",
      "Total of 26 words\n"
     ]
    }
   ],
   "source": [
    "def get_words(text):\n",
    "    text = text.replace(\",\", \"\")\n",
    "    text = text.replace(\".\", \"\")\n",
    "    text = text.lower()\n",
    "    \n",
    "    words = text.split(\" \")\n",
    "    return words\n",
    "\n",
    "def count_words(words):\n",
    "    word_count = {}\n",
    "    for word in words: \n",
    "        if word in word_count:\n",
    "            word_count[word] += 1\n",
    "        else:\n",
    "            word_count[word] = 1\n",
    "    return word_count\n",
    "\n",
    "def display_word_count(word_count):\n",
    "    words = list(word_count.keys())\n",
    "    total = 0\n",
    "    for word in words:\n",
    "        print(f\"{word}: {word_count[word]}\")\n",
    "        total += word_count[word]\n",
    "    return total\n",
    "\n",
    "text_str = input(\"Please enter a string: \")\n",
    "word_list = get_words(text_str)\n",
    "word_count_list = count_words(word_list)\n",
    "all_words = display_word_count(word_count_list)\n",
    "print(f\"Total of {all_words} words\")\n"
   ]
  },
  {
   "cell_type": "code",
   "execution_count": null,
   "metadata": {},
   "outputs": [],
   "source": []
  }
 ],
 "metadata": {
  "kernelspec": {
   "display_name": "Python 3",
   "language": "python",
   "name": "python3"
  },
  "language_info": {
   "codemirror_mode": {
    "name": "ipython",
    "version": 3
   },
   "file_extension": ".py",
   "mimetype": "text/x-python",
   "name": "python",
   "nbconvert_exporter": "python",
   "pygments_lexer": "ipython3",
   "version": "3.8.5"
  }
 },
 "nbformat": 4,
 "nbformat_minor": 4
}
